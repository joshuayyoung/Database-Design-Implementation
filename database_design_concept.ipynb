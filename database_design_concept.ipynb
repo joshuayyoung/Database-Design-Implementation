{
  "nbformat": 4,
  "nbformat_minor": 0,
  "metadata": {
    "colab": {
      "provenance": [],
      "authorship_tag": "ABX9TyM6vZsnZ7O9PkYtDe7Yaq4+",
      "include_colab_link": true
    },
    "kernelspec": {
      "name": "python3",
      "display_name": "Python 3"
    },
    "language_info": {
      "name": "python"
    }
  },
  "cells": [
    {
      "cell_type": "markdown",
      "metadata": {
        "id": "view-in-github",
        "colab_type": "text"
      },
      "source": [
        "<a href=\"https://colab.research.google.com/github/joshuayyoung/Database-Design-Implementation/blob/main/database_design_concept.ipynb\" target=\"_parent\"><img src=\"https://colab.research.google.com/assets/colab-badge.svg\" alt=\"Open In Colab\"/></a>"
      ]
    },
    {
      "cell_type": "code",
      "execution_count": null,
      "metadata": {
        "id": "ySpQpfuqVFEP"
      },
      "outputs": [],
      "source": [
        "import sqlite3\n",
        "\n",
        "# est connection\n",
        "conn = sqlite3.connect('demo.db')\n",
        "\n",
        "# used to exe SQL commands\n",
        "cursor = conn.cursor()"
      ]
    },
    {
      "cell_type": "code",
      "source": [
        "# create 'Users' table\n",
        "cursor.execute('''CREATE TABLE IF NOT EXISTS Users (\n",
        "                    user_id INTEGER PRIMARY KEY,\n",
        "                    username TEXT UNIQUE,\n",
        "                    email TEXT UNIQUE,\n",
        "                    password TEXT,\n",
        "                    created_at TIMESTAMP DEFAULT CURRENT_TIMESTAMP\n",
        "                    )''')\n",
        "\n",
        "# create 'UserActivities' table\n",
        "cursor.execute('''CREATE TABLE IF NOT EXISTS UserActivities (\n",
        "                    activity_id INTEGER PRIMARY KEY,\n",
        "                    user_id INTEGER,\n",
        "                    activity TEXT,\n",
        "                    activity_time TIMESTAMP DEFAULT CURRENT_TIMESTAMP,\n",
        "                    FOREIGN KEY (user_id) REFERENCES Users(user_id)\n",
        "                    )''')\n",
        "\n",
        "# create 'UserConnections' table\n",
        "cursor.execute('''CREATE TABLE IF NOT EXISTS UserConnections (\n",
        "                    connection_id INTEGER PRIMARY KEY,\n",
        "                    user1_id INTEGER,\n",
        "                    user2_id INTEGER,\n",
        "                    connection_time TIMESTAMP DEFAULT CURRENT_TIMESTAMP,\n",
        "                    FOREIGN KEY (user1_id) REFERENCES Users(user_id),\n",
        "                    FOREIGN KEY (user2_id) REFERENCES Users(user_id)\n",
        "                    )''')"
      ],
      "metadata": {
        "colab": {
          "base_uri": "https://localhost:8080/"
        },
        "id": "lVVOqcZIVm0m",
        "outputId": "00eca6c7-64a4-4f4d-b214-c57da4372b21"
      },
      "execution_count": null,
      "outputs": [
        {
          "output_type": "execute_result",
          "data": {
            "text/plain": [
              "<sqlite3.Cursor at 0x798bb2f02a40>"
            ]
          },
          "metadata": {},
          "execution_count": 2
        }
      ]
    },
    {
      "cell_type": "code",
      "source": [
        "#create indexes for data retrieval\n",
        "cursor.execute('''CREATE INDEX IF NOT EXISTS idx_user_id ON\n",
        "              UserActivities(user_id)''')\n",
        "cursor.execute('''CREATE INDEX IF NOT EXISTS idx_user1_user2 ON\n",
        "              UserConnections(user1_id, user2_id)''')"
      ],
      "metadata": {
        "colab": {
          "base_uri": "https://localhost:8080/"
        },
        "id": "SM0hjvHpf1ed",
        "outputId": "7db4ac5c-d141-4803-d378-d15acd905f8a"
      },
      "execution_count": null,
      "outputs": [
        {
          "output_type": "execute_result",
          "data": {
            "text/plain": [
              "<sqlite3.Cursor at 0x798bb2f02a40>"
            ]
          },
          "metadata": {},
          "execution_count": 3
        }
      ]
    },
    {
      "cell_type": "code",
      "source": [
        "# commit (save) changes\n",
        "conn.commit()"
      ],
      "metadata": {
        "id": "hf2ulUaahd-B"
      },
      "execution_count": null,
      "outputs": []
    },
    {
      "cell_type": "code",
      "source": [
        "#add (insert) data into Users table\n",
        "cursor.execute(\"INSERT INTO Users (username, email, password) VALUES (?, ?, ?)\", ('alice', 'alice@example.com', 'password123'))\n",
        "cursor.execute(\"INSERT INTO Users (username, email, password) VALUES (?, ?, ?)\", ('bob', 'bob@example.com', 'secre123'))\n",
        "\n",
        "#add (insert) data into UserActivities table\n",
        "cursor.execute(\"INSERT INTO UserActivities (user_id, activity) VALUES (?, ?)\", (1, 'Logged in'))\n",
        "cursor.execute(\"INSERT INTO UserActivities (User_id, activity) VALUES (?,?)\", (2, 'Posted a comment'))\n",
        "\n",
        "#add (insert) data into UserConnections table\n",
        "cursor.execute(\"INSERT INTO UserConnections (user1_id, user2_id) VALUES (?, ?)\", (1,2))\n",
        "cursor.execute(\"INSERT INTO UserConnections (user1_id, user2_id) VALUES (?, ?)\", (2,1))"
      ],
      "metadata": {
        "colab": {
          "base_uri": "https://localhost:8080/"
        },
        "id": "ppJuh7l7qpaC",
        "outputId": "2a70cf74-caa0-4c34-8f5c-53c5ae10a1f2"
      },
      "execution_count": null,
      "outputs": [
        {
          "output_type": "execute_result",
          "data": {
            "text/plain": [
              "<sqlite3.Cursor at 0x798bb2f02a40>"
            ]
          },
          "metadata": {},
          "execution_count": 5
        }
      ]
    },
    {
      "cell_type": "code",
      "source": [
        "# commit (save) changes\n",
        "\n",
        "conn.commit()"
      ],
      "metadata": {
        "id": "A-usijJSKT5F"
      },
      "execution_count": null,
      "outputs": []
    },
    {
      "cell_type": "code",
      "source": [
        "# query and print data from the Users table\n",
        "print(\"Users:\")\n",
        "cursor.execute(\"SELECT * FROM Users\")\n",
        "for row in cursor.fetchall():\n",
        "  print(row)"
      ],
      "metadata": {
        "colab": {
          "base_uri": "https://localhost:8080/"
        },
        "id": "gGZtS-5hKaDz",
        "outputId": "8c568ae4-1be9-4fc0-d070-dbb1d5adbb32"
      },
      "execution_count": null,
      "outputs": [
        {
          "output_type": "stream",
          "name": "stdout",
          "text": [
            "Users:\n",
            "(1, 'alice', 'alice@example.com', 'password123', '2024-03-26 17:04:00')\n",
            "(2, 'bob', 'bob@example.com', 'secre123', '2024-03-26 17:04:00')\n"
          ]
        }
      ]
    },
    {
      "cell_type": "code",
      "source": [
        "#query and print data from the UserActitivities table\n",
        "print(\"\\nUser Activites:\")\n",
        "cursor.execute(\"SELECT * FROM UserActivities\")\n",
        "for row in cursor.fetchall():\n",
        "  print(row)"
      ],
      "metadata": {
        "colab": {
          "base_uri": "https://localhost:8080/"
        },
        "id": "KVs_E3trKzUh",
        "outputId": "8a10e5f5-3d2c-4ca6-b2f6-be27bf54e4b0"
      },
      "execution_count": null,
      "outputs": [
        {
          "output_type": "stream",
          "name": "stdout",
          "text": [
            "\n",
            "User Activites:\n",
            "(1, 1, 'Logged in', '2024-03-26 17:04:00')\n",
            "(2, 2, 'Posted a comment', '2024-03-26 17:04:00')\n"
          ]
        }
      ]
    },
    {
      "cell_type": "code",
      "source": [
        "#query and print data from the UserConnections Table\n",
        "print(\"\\nUser Connections:\")\n",
        "cursor.execute(\"SELECT * FROM UserConnections\")\n",
        "for row in cursor.fetchall():\n",
        "  print(row)"
      ],
      "metadata": {
        "colab": {
          "base_uri": "https://localhost:8080/"
        },
        "id": "X_WAqBjILMZ5",
        "outputId": "70e1f6f1-31cf-4fb7-aba7-26a70a7f7567"
      },
      "execution_count": null,
      "outputs": [
        {
          "output_type": "stream",
          "name": "stdout",
          "text": [
            "\n",
            "User Connections:\n",
            "(1, 1, 2, '2024-03-26 17:04:00')\n",
            "(2, 2, 1, '2024-03-26 17:04:00')\n"
          ]
        }
      ]
    },
    {
      "cell_type": "code",
      "source": [
        "#close the database connection\n",
        "conn.close()"
      ],
      "metadata": {
        "id": "EUeas-e3MT9p"
      },
      "execution_count": null,
      "outputs": []
    }
  ]
}