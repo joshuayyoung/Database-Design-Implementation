{
  "nbformat": 4,
  "nbformat_minor": 0,
  "metadata": {
    "colab": {
      "provenance": [],
      "authorship_tag": "ABX9TyMxevWwOBbS9IekQ+mrjTbS",
      "include_colab_link": true
    },
    "kernelspec": {
      "name": "python3",
      "display_name": "Python 3"
    },
    "language_info": {
      "name": "python"
    }
  },
  "cells": [
    {
      "cell_type": "markdown",
      "metadata": {
        "id": "view-in-github",
        "colab_type": "text"
      },
      "source": [
        "<a href=\"https://colab.research.google.com/github/joshuayyoung/Database-Design-Implementation/blob/main/transactions.ipynb\" target=\"_parent\"><img src=\"https://colab.research.google.com/assets/colab-badge.svg\" alt=\"Open In Colab\"/></a>"
      ]
    },
    {
      "cell_type": "code",
      "execution_count": null,
      "metadata": {
        "id": "3kcB6HQY77x7"
      },
      "outputs": [],
      "source": [
        "import sqlite3"
      ]
    },
    {
      "cell_type": "code",
      "source": [
        "#connect to SQlite database\n",
        "conn = sqlite3.connect(':memory:')\n",
        "cursor = conn.cursor()\n",
        "\n",
        "print(\"establish in-memory database connection\")"
      ],
      "metadata": {
        "colab": {
          "base_uri": "https://localhost:8080/"
        },
        "id": "yshUTeoX8Nm1",
        "outputId": "eb34d3ab-40db-49d7-bc94-728c74adf50e"
      },
      "execution_count": null,
      "outputs": [
        {
          "output_type": "stream",
          "name": "stdout",
          "text": [
            "establish in-memory database connection\n"
          ]
        }
      ]
    },
    {
      "cell_type": "code",
      "source": [
        "# create users table\n",
        "cursor.execute('''CREATE TABLE IF NOT EXISTS users (id INTEGER PRIMARY KEY, name TEXT, balance REAL)''')"
      ],
      "metadata": {
        "colab": {
          "base_uri": "https://localhost:8080/"
        },
        "id": "ak6yJbZ19EKx",
        "outputId": "69a6ff11-677e-409c-f4d6-b85129ad7c82"
      },
      "execution_count": null,
      "outputs": [
        {
          "output_type": "execute_result",
          "data": {
            "text/plain": [
              "<sqlite3.Cursor at 0x784ee0353e40>"
            ]
          },
          "metadata": {},
          "execution_count": 18
        }
      ]
    },
    {
      "cell_type": "code",
      "source": [
        "#add/insert data\n",
        "cursor.execute(\"INSERT INTO Users (name, balance) VALUES (?, ?)\", ('Alice', 1000.0))\n",
        "cursor.execute(\"INSERT INTO users (name, balance) VALUES (?, ?)\", ('Bob', 500.0))"
      ],
      "metadata": {
        "colab": {
          "base_uri": "https://localhost:8080/"
        },
        "id": "pa7a2-qt8iFW",
        "outputId": "5424a3cf-bea5-4c4a-e0ff-7928b6c268f2"
      },
      "execution_count": null,
      "outputs": [
        {
          "output_type": "execute_result",
          "data": {
            "text/plain": [
              "<sqlite3.Cursor at 0x784ee0353e40>"
            ]
          },
          "metadata": {},
          "execution_count": 19
        }
      ]
    },
    {
      "cell_type": "code",
      "source": [
        "#function to handle transfer funds transaction\n",
        "def transfer_funds(sender, recipient, amount):\n",
        "  try:\n",
        "      #check if transaction is active\n",
        "      if not conn.in_transaction:\n",
        "        #start transaction\n",
        "        conn.execute(\"BEGIN\")\n",
        "\n",
        "      #check if sender has sufficent balance\n",
        "      cursor.execute(\"SELECT balance FROM users WHERE name=?\", (sender,))\n",
        "      sender_balance = cursor.fetchone()[0]\n",
        "      if sender_balance < amount:\n",
        "        raise ValueError(\"Insufficient funds\")\n",
        "\n",
        "      #update sender's balance\n",
        "      cursor.execute(\"UPDATE users SET balance = balance - ? WHERE name=?\", (amount, sender))\n",
        "\n",
        "      #update recipient's balance\n",
        "      cursor.execute(\"UPDATE users SET balance = balance + ? WHERE name=?\", (amount, recipient))\n",
        "\n",
        "      #commit transaction\n",
        "      if not conn.in_transaction:\n",
        "        #commit only id not already in a transaction\n",
        "        conn.commit()\n",
        "      print(\"Transaction successful\")\n",
        "  except Exception as e:\n",
        "      #rollback transaction if any error occurs\n",
        "      if not conn.in_transaction:\n",
        "          #rollback only if not already in a transaction\n",
        "          conn.rollback()\n",
        "      print(f\"Transaction Failed: {e}\")\n",
        "\n",
        "print(\"created function to handle trasfer of funds\")"
      ],
      "metadata": {
        "id": "Tf_udL6e9_05",
        "colab": {
          "base_uri": "https://localhost:8080/"
        },
        "outputId": "563e614d-6d25-4660-8048-876107382f3d"
      },
      "execution_count": null,
      "outputs": [
        {
          "output_type": "stream",
          "name": "stdout",
          "text": [
            "created function to handle trasfer of funds\n"
          ]
        }
      ]
    },
    {
      "cell_type": "code",
      "source": [
        "#perform a fund transfer\n",
        "transfer_funds('Alice', 'Bob', 200.0)"
      ],
      "metadata": {
        "colab": {
          "base_uri": "https://localhost:8080/"
        },
        "id": "Dm6y9th6CgiP",
        "outputId": "1637f943-ca28-45ab-fc61-732d35be620e"
      },
      "execution_count": null,
      "outputs": [
        {
          "output_type": "stream",
          "name": "stdout",
          "text": [
            "Transaction successful\n"
          ]
        }
      ]
    },
    {
      "cell_type": "code",
      "source": [
        "#display balances after transaction\n",
        "cursor.execute(\"SELECT name, balance FROM users\")\n",
        "print(cursor.fetchall())"
      ],
      "metadata": {
        "colab": {
          "base_uri": "https://localhost:8080/"
        },
        "id": "F8AHWqm8ERjq",
        "outputId": "aea22af0-8a11-47aa-9e55-739143494ad3"
      },
      "execution_count": null,
      "outputs": [
        {
          "output_type": "stream",
          "name": "stdout",
          "text": [
            "[('Alice', 400.0), ('Bob', 700.0)]\n"
          ]
        }
      ]
    },
    {
      "cell_type": "code",
      "source": [
        "#close database connection\n",
        "conn.close()\n",
        "\n",
        "print(\"close database connection\")"
      ],
      "metadata": {
        "colab": {
          "base_uri": "https://localhost:8080/"
        },
        "id": "LKnSPobgEcUL",
        "outputId": "84d16c95-3c16-4385-d307-88846f707b56"
      },
      "execution_count": null,
      "outputs": [
        {
          "output_type": "stream",
          "name": "stdout",
          "text": [
            "close database connection\n"
          ]
        }
      ]
    }
  ]
}