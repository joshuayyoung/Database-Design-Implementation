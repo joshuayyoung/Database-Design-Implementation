{
  "nbformat": 4,
  "nbformat_minor": 0,
  "metadata": {
    "colab": {
      "provenance": [],
      "authorship_tag": "ABX9TyOBS5iGVIrJ22IIt3fSc12Q",
      "include_colab_link": true
    },
    "kernelspec": {
      "name": "python3",
      "display_name": "Python 3"
    },
    "language_info": {
      "name": "python"
    }
  },
  "cells": [
    {
      "cell_type": "markdown",
      "metadata": {
        "id": "view-in-github",
        "colab_type": "text"
      },
      "source": [
        "<a href=\"https://colab.research.google.com/github/joshuayyoung/Database-Design-Implementation/blob/main/Social%20Net%20Visualized.ipynb\" target=\"_parent\"><img src=\"https://colab.research.google.com/assets/colab-badge.svg\" alt=\"Open In Colab\"/></a>"
      ]
    },
    {
      "cell_type": "code",
      "execution_count": null,
      "metadata": {
        "id": "dAVaEN4jGbMU"
      },
      "outputs": [],
      "source": [
        "# Lab Assignment #2 Database Design and Implementation"
      ]
    },
    {
      "cell_type": "code",
      "source": [
        "# if no mod found = install using command : !pip install networks\n",
        "import networkx as nx"
      ],
      "metadata": {
        "id": "tv4ungSLH308"
      },
      "execution_count": null,
      "outputs": []
    },
    {
      "cell_type": "code",
      "source": [
        "# if no module found = install using command: !pip install networks\n",
        "import matplotlib.pyplot as plt"
      ],
      "metadata": {
        "id": "qCyak71UHT8l"
      },
      "execution_count": null,
      "outputs": []
    },
    {
      "cell_type": "code",
      "source": [
        "# create graph to represent the social net of students and their connectections\n",
        "G = nx.Graph()"
      ],
      "metadata": {
        "id": "IuxCQUglHoQi"
      },
      "execution_count": null,
      "outputs": []
    },
    {
      "cell_type": "code",
      "source": [
        "# student list\n",
        "students = [\"Alice\", \"Bob\", \"Charlie\", \"David\", \"Eve\", \"Frank\", \"Grace\"]\n",
        "\n",
        "# add students as nodes to grapg\n",
        "G.add_nodes_from(students)"
      ],
      "metadata": {
        "id": "-KErTWV-IKiV"
      },
      "execution_count": null,
      "outputs": []
    },
    {
      "cell_type": "code",
      "source": [
        "print(students)"
      ],
      "metadata": {
        "colab": {
          "base_uri": "https://localhost:8080/"
        },
        "id": "lNsl7CquIneI",
        "outputId": "e1ea7998-f558-430d-d0cd-b26b7b2a7f87"
      },
      "execution_count": null,
      "outputs": [
        {
          "output_type": "stream",
          "name": "stdout",
          "text": [
            "['Alice', 'Bob', 'Charlie', 'David', 'Eve', 'Frank', 'Grace']\n"
          ]
        }
      ]
    },
    {
      "cell_type": "code",
      "source": [
        "# list of connections between students, reps a connection b/w 2 students\n",
        "connections = [\n",
        "    (\"Alice\", \"Bob\"),\n",
        "    (\"Alice\", \"Charlie\"),\n",
        "    (\"Bob\", \"Charlie\"),\n",
        "    (\"Bob\", \"David\"),\n",
        "    (\"Charlie\", \"David\"),\n",
        "    (\"Charlie\", \"Eve\"),\n",
        "    (\"David\", \"Eve\"),\n",
        "    (\"Eve\", \"Frank\"),\n",
        "    (\"Frank\", \"Grace\"),\n",
        "    (\"Grace\", \"Eve\"),\n",
        "]\n",
        "\n",
        "#add connections as edges to the graph\n",
        "G.add_edges_from(connections)"
      ],
      "metadata": {
        "id": "1prvjH3AIqms"
      },
      "execution_count": null,
      "outputs": []
    },
    {
      "cell_type": "code",
      "source": [
        "print(connections)"
      ],
      "metadata": {
        "colab": {
          "base_uri": "https://localhost:8080/"
        },
        "id": "_9Ockf_YJ_TZ",
        "outputId": "f9fbecc6-6a83-46c4-f255-9979d48c346a"
      },
      "execution_count": null,
      "outputs": [
        {
          "output_type": "stream",
          "name": "stdout",
          "text": [
            "[('Alice', 'Bob'), ('Alice', 'Charlie'), ('Bob', 'Charlie'), ('Bob', 'David'), ('Charlie', 'David'), ('Charlie', 'Eve'), ('David', 'Eve'), ('Eve', 'Frank'), ('Frank', 'Grace'), ('Grace', 'Eve')]\n"
          ]
        }
      ]
    },
    {
      "cell_type": "code",
      "source": [
        "# print basic info about graph\n",
        "print(\"Nodes of the graph:\", G.nodes())\n",
        "print(\"Edges of the graph:\", G.edges())\n",
        "print(\"Number of nodes:\", G.number_of_nodes())\n",
        "print(\"Number of edges:\", G.number_of_edges())"
      ],
      "metadata": {
        "colab": {
          "base_uri": "https://localhost:8080/"
        },
        "id": "JX6lARqEKEKl",
        "outputId": "99dc3cec-ba90-45cd-d6f9-81dd97efaac0"
      },
      "execution_count": null,
      "outputs": [
        {
          "output_type": "stream",
          "name": "stdout",
          "text": [
            "Nodes of the graph: ['Alice', 'Bob', 'Charlie', 'David', 'Eve', 'Frank', 'Grace']\n",
            "Edges of the graph: [('Alice', 'Bob'), ('Alice', 'Charlie'), ('Bob', 'Charlie'), ('Bob', 'David'), ('Charlie', 'David'), ('Charlie', 'Eve'), ('David', 'Eve'), ('Eve', 'Frank'), ('Eve', 'Grace'), ('Frank', 'Grace')]\n",
            "Number of nodes: 7\n",
            "Number of edges: 10\n"
          ]
        }
      ]
    },
    {
      "cell_type": "code",
      "source": [
        "# visulaize net\n",
        "nx.draw(G, with_labels=True, font_weight='bold', node_color='skyblue', node_size=1000, edge_color='gray')\n",
        "plt.title(\"Social Network Graph Model\")\n",
        "plt.show()"
      ],
      "metadata": {
        "colab": {
          "base_uri": "https://localhost:8080/",
          "height": 539
        },
        "id": "4zKfZGoaKvLX",
        "outputId": "d3e5330e-5ac7-4607-c169-55bb538df904"
      },
      "execution_count": null,
      "outputs": [
        {
          "output_type": "display_data",
          "data": {
            "text/plain": [
              "<Figure size 640x480 with 1 Axes>"
            ],
            "image/png": "[encoded data removed]"
          },
          "metadata": {}
        }
      ]
    },
    {
      "cell_type": "code",
      "source": [
        "# centralily means a net is directly connected to many others (degree centrality)\n",
        "degree_centrality = nx.degree_centrality(G)\n",
        "print(\"\\nDegree Centrality:\")\n",
        "for student, centrality in degree_centrality.items():\n",
        "    print(f\"{student}: {centrality:.2f}\")"
      ],
      "metadata": {
        "colab": {
          "base_uri": "https://localhost:8080/"
        },
        "id": "dPXuJMD2MX_m",
        "outputId": "60396191-2273-43dc-bf25-347d90dd95be"
      },
      "execution_count": null,
      "outputs": [
        {
          "output_type": "stream",
          "name": "stdout",
          "text": [
            "\n",
            "Degree Centrality:\n",
            "Alice: 0.33\n",
            "Bob: 0.50\n",
            "Charlie: 0.67\n",
            "David: 0.50\n",
            "Eve: 0.67\n",
            "Frank: 0.33\n",
            "Grace: 0.33\n"
          ]
        }
      ]
    },
    {
      "cell_type": "code",
      "source": [
        "# serve as a key broker between many other nodes (between centrality)\n",
        "betweenness_centrality = nx.edge_betweenness_centrality(G)\n",
        "print(\"\\nBetweenness Centrality:\")\n",
        "for student, centrality in betweenness_centrality.items():\n",
        "    print(f\"{student}: {centrality:.2f}\")"
      ],
      "metadata": {
        "colab": {
          "base_uri": "https://localhost:8080/"
        },
        "id": "G4gdwrVxNhCC",
        "outputId": "1b4d9f34-9f7a-4a19-a027-be35a9464706"
      },
      "execution_count": null,
      "outputs": [
        {
          "output_type": "stream",
          "name": "stdout",
          "text": [
            "\n",
            "Betweenness Centrality:\n",
            "('Alice', 'Bob'): 0.07\n",
            "('Alice', 'Charlie'): 0.21\n",
            "('Bob', 'Charlie'): 0.12\n",
            "('Bob', 'David'): 0.14\n",
            "('Charlie', 'David'): 0.07\n",
            "('Charlie', 'Eve'): 0.36\n",
            "('David', 'Eve'): 0.21\n",
            "('Eve', 'Frank'): 0.24\n",
            "('Eve', 'Grace'): 0.24\n",
            "('Frank', 'Grace'): 0.05\n"
          ]
        }
      ]
    },
    {
      "cell_type": "code",
      "source": [
        "# close to many others indriectly (close centrality)\n",
        "closeness_centrality = nx.closeness_centrality(G)\n",
        "print(\"\\nCloseness Centrality:\")\n",
        "for student, centrality in closeness_centrality.items():\n",
        "    print(f\"{student}: {centrality:.2f}\")"
      ],
      "metadata": {
        "colab": {
          "base_uri": "https://localhost:8080/"
        },
        "id": "ilVjLS2pOWLy",
        "outputId": "d3fce54e-328b-4add-a7f1-1e5f9877fa14"
      },
      "execution_count": null,
      "outputs": [
        {
          "output_type": "stream",
          "name": "stdout",
          "text": [
            "\n",
            "Closeness Centrality:\n",
            "Alice: 0.50\n",
            "Bob: 0.55\n",
            "Charlie: 0.75\n",
            "David: 0.67\n",
            "Eve: 0.75\n",
            "Frank: 0.50\n",
            "Grace: 0.50\n"
          ]
        }
      ]
    }
  ]
}