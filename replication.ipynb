{
  "nbformat": 4,
  "nbformat_minor": 0,
  "metadata": {
    "colab": {
      "provenance": [],
      "authorship_tag": "ABX9TyN5GsHPxFhrMhc1vjhHbDwJ",
      "include_colab_link": true
    },
    "kernelspec": {
      "name": "python3",
      "display_name": "Python 3"
    },
    "language_info": {
      "name": "python"
    }
  },
  "cells": [
    {
      "cell_type": "markdown",
      "metadata": {
        "id": "view-in-github",
        "colab_type": "text"
      },
      "source": [
        "<a href=\"https://colab.research.google.com/github/joshuayyoung/Database-Design-Implementation/blob/main/replication.ipynb\" target=\"_parent\"><img src=\"https://colab.research.google.com/assets/colab-badge.svg\" alt=\"Open In Colab\"/></a>"
      ]
    },
    {
      "cell_type": "code",
      "execution_count": null,
      "metadata": {
        "colab": {
          "base_uri": "https://localhost:8080/"
        },
        "id": "fhWjg9MlUQEd",
        "outputId": "1b7d0309-b0b5-474a-8e0a-0256721e8b16"
      },
      "outputs": [
        {
          "output_type": "stream",
          "name": "stdout",
          "text": [
            "imported some packages\n"
          ]
        }
      ],
      "source": [
        "#package to handle thread-based parallelism\n",
        "import threading\n",
        "#package to handle time related functions\n",
        "import time\n",
        "\n",
        "print(\"imported some packages\")"
      ]
    },
    {
      "cell_type": "code",
      "source": [
        "#reps a distributed database system\n",
        "class DatabaseNode:\n",
        "  #initalization method\n",
        "  def __init__(self, node_id):\n",
        "    #unique identifier for each node\n",
        "    self.node_id = node_id\n",
        "    #data stored locally in the node\n",
        "    self.data = {}\n",
        "    #list of replica nodes\n",
        "    self.replica_nodes = []\n",
        "\n",
        "#sims a write op on the database node\n",
        "  def write_data(self, key, value):\n",
        "    print(f\"Node {self.node_id}: Write Operation - Key {key}, Value: {value}\")\n",
        "    self.data[key] = value\n",
        "\n",
        "    #iterates over each replica node to replicate the write operation\n",
        "    for replica_node in self.replica_nodes:\n",
        "        replica_node.recieve_replication(key, value)\n",
        "\n",
        "#recieve replicated data from other nodes\n",
        "  def recieve_replication(self, key, value):\n",
        "      print(f\"Node{self.node_id}: Replication -Key: {key}, Value: {value}\")\n",
        "      self.data[key] = value\n",
        "#simulates a read operation on the database node\n",
        "  def read_data(self, key):\n",
        "      print(f\"Node {self.node_id}: Read Operation - Key: {key}, Value: {self.data.get(key, 'Not Found')}\")\n",
        "      return self.data.get(key, None)\n",
        "\n",
        "  print(\"created the node that represents the distrubuted database systems\")"
      ],
      "metadata": {
        "colab": {
          "base_uri": "https://localhost:8080/"
        },
        "id": "3eSVhkYAU1n8",
        "outputId": "50c26941-18bd-496f-9fa5-c98a0cfc9340"
      },
      "execution_count": null,
      "outputs": [
        {
          "output_type": "stream",
          "name": "stdout",
          "text": [
            "created the node that represents the distrubuted database systems\n"
          ]
        }
      ]
    },
    {
      "cell_type": "code",
      "source": [
        "from re import T\n",
        "#simulates a continuois stream of write operations on a database node\n",
        "def simulate_writes(node):\n",
        "  #used to generate unique keys for write operation\n",
        "  i = 0\n",
        "  # continuous loop\n",
        "  while True:\n",
        "    node.write_data(f\" k - {i}\", f\" v - {i}\")\n",
        "    #ensure unqiue key-value pair\n",
        "    i += 1\n",
        "    #pause execution for 2 secons before the next interation\n",
        "    time.sleep(2)\n",
        "\n",
        "print(\"defined the methods to handle simulating a continous stream of write operations\")"
      ],
      "metadata": {
        "colab": {
          "base_uri": "https://localhost:8080/"
        },
        "id": "xhXXh03wYdKK",
        "outputId": "6ea7c0ec-e89a-42ef-adb9-7a3c3bde811d"
      },
      "execution_count": null,
      "outputs": [
        {
          "output_type": "stream",
          "name": "stdout",
          "text": [
            "defined the methods to handle simulating a continous stream of write operations\n"
          ]
        }
      ]
    },
    {
      "cell_type": "code",
      "source": [
        "#create 2 node instances\n",
        "node1 = DatabaseNode(1)\n",
        "node2 = DatabaseNode(2)\n",
        "\n",
        "#set up replication between the 2 nodes\n",
        "node1.replica_nodes.append(node2)\n",
        "node2.replica_nodes.append(node1)\n",
        "\n",
        "print(\"initiilazied the node instances and  setup node replication\")"
      ],
      "metadata": {
        "colab": {
          "base_uri": "https://localhost:8080/"
        },
        "id": "0D_Bww5WaHZ_",
        "outputId": "464306d1-647e-4514-b8fa-df75af765ac6"
      },
      "execution_count": null,
      "outputs": [
        {
          "output_type": "stream",
          "name": "stdout",
          "text": [
            "initiilazied the node instances and  setup node replication\n"
          ]
        }
      ]
    },
    {
      "cell_type": "code",
      "source": [
        "# start write operations for nodel in seperate thread\n",
        "threading.Thread(target=simulate_writes, args=(node1,)).start()"
      ],
      "metadata": {
        "colab": {
          "base_uri": "https://localhost:8080/"
        },
        "id": "XyVSAt3Aan0x",
        "outputId": "5807cd15-87c3-4bf3-c198-fd12143783e2"
      },
      "execution_count": null,
      "outputs": [
        {
          "output_type": "stream",
          "name": "stdout",
          "text": [
            "Node 1: Write Operation - Key  k - 0, Value:  v - 0\n",
            "Node2: Replication -Key:  k - 0, Value:  v - 0\n"
          ]
        }
      ]
    },
    {
      "cell_type": "code",
      "source": [
        "#initiates a read operation on node1\n",
        "node1.read_data(\"key0\")\n",
        "#pause 5 seconds to all writes operations to be replicated between the nodes before reading again\n",
        "time.sleep(5)\n",
        "#performs a similar read operations on node2, allow for replication write operations between nodes\n",
        "node2.read_data(\"key0\")"
      ],
      "metadata": {
        "colab": {
          "base_uri": "https://localhost:8080/"
        },
        "id": "tg8QK4e1bSZ2",
        "outputId": "1532eb9d-bc67-4d55-eb90-ee07b30734cb"
      },
      "execution_count": null,
      "outputs": [
        {
          "output_type": "stream",
          "name": "stdout",
          "text": [
            "Node 1: Read Operation - Key: key0, Value: Not Found\n",
            "Node 1: Write Operation - Key  k - 104, Value:  v - 104\n",
            "Node2: Replication -Key:  k - 104, Value:  v - 104\n",
            "Node 1: Write Operation - Key  k - 105, Value:  v - 105\n",
            "Node2: Replication -Key:  k - 105, Value:  v - 105\n",
            "Node 2: Read Operation - Key: key0, Value: Not Found\n"
          ]
        }
      ]
    }
  ]
}